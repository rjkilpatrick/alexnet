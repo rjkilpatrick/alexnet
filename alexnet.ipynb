{
 "metadata": {
  "language_info": {
   "codemirror_mode": {
    "name": "ipython",
    "version": 3
   },
   "file_extension": ".py",
   "mimetype": "text/x-python",
   "name": "python",
   "nbconvert_exporter": "python",
   "pygments_lexer": "ipython3",
   "version": "3.8.5-final"
  },
  "orig_nbformat": 2,
  "kernelspec": {
   "name": "torch-unstable",
   "display_name": "Python (Torch-unstable)"
  }
 },
 "nbformat": 4,
 "nbformat_minor": 2,
 "cells": [
  {
   "source": [
    "# AlexNet for Image classification.\n",
    "\n",
    "A simple implementation of AlexNet for playing around with.\n",
    "I'm probably going to train it on CIFAR-10 as ImageNet will takes ages."
   ],
   "cell_type": "markdown",
   "metadata": {}
  },
  {
   "cell_type": "code",
   "execution_count": 1,
   "metadata": {},
   "outputs": [
    {
     "output_type": "stream",
     "name": "stdout",
     "text": [
      "Running on cuda\n"
     ]
    }
   ],
   "source": [
    "import torch\n",
    "import torchvision\n",
    "\n",
    "device = torch.device(\"cuda\" if torch.cuda.is_available() else \"cpu\")\n",
    "print(f\"Running on {device}\")"
   ]
  },
  {
   "source": [
    "We set the batch size, this is proportional to the memory available on your device.\n",
    "The author used the value below, but feel free to experiment with it!\n",
    "\n",
    "Use a value somewhere between 2 and 32 according to [this paper](https://arxiv.org/abs/1804.07612)."
   ],
   "cell_type": "markdown",
   "metadata": {}
  },
  {
   "cell_type": "code",
   "execution_count": 2,
   "metadata": {},
   "outputs": [],
   "source": [
    "bs = 4"
   ]
  },
  {
   "source": [
    "## CIFAR-10\n",
    "\n",
    "CIFAR-10 is a labelled subset of the [80 million tiny images dataset](https://en.wikipedia.org/wiki/80_Million_Tiny_Images), with 6000 32x32 colour images in 10 classes, with 6000 images per class.\n",
    "There are 50,000 training images and 10,000 test images.\n",
    "\n",
    "The dataset can be found [here](https://www.cs.toronto.edu/~kriz/cifar.html)."
   ],
   "cell_type": "markdown",
   "metadata": {}
  },
  {
   "cell_type": "code",
   "execution_count": 3,
   "metadata": {},
   "outputs": [
    {
     "output_type": "stream",
     "name": "stdout",
     "text": [
      "Files already downloaded and verified\n",
      "Files already downloaded and verified\n"
     ]
    }
   ],
   "source": [
    "trainset = torchvision.datasets.CIFAR10('./data', train=True, download=True)\n",
    "testset = torchvision.datasets.CIFAR10('./data', train=False, download=True)\n",
    "\n",
    "trainloader = torch.utils.data.DataLoader(trainset, batch_size=bs, shuffle=True)\n",
    "testloader = torch.utils.data.DataLoader(testset, batch_size=bs, shuffle=False)"
   ]
  },
  {
   "cell_type": "code",
   "execution_count": null,
   "metadata": {},
   "outputs": [],
   "source": []
  }
 ]
}